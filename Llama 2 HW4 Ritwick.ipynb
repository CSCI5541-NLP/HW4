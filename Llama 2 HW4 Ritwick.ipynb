{
 "cells": [
  {
   "cell_type": "code",
   "execution_count": 1,
   "id": "arabic-phone",
   "metadata": {},
   "outputs": [],
   "source": [
    "from llamaapi import LlamaAPI\n",
    "\n",
    "llama = LlamaAPI(\"\") # enter your unique token here."
   ]
  },
  {
   "cell_type": "code",
   "execution_count": 2,
   "id": "expired-slide",
   "metadata": {},
   "outputs": [],
   "source": [
    "from langchain_experimental.llms import ChatLlamaAPI\n",
    "model = ChatLlamaAPI(client=llama)"
   ]
  },
  {
   "cell_type": "code",
   "execution_count": 11,
   "id": "intensive-cambridge",
   "metadata": {},
   "outputs": [
    {
     "data": {
      "text/plain": [
       "'사라있는 너의 반응을 찾습니다. (Sarajitneun neo-ui bang-eob-il cho-eob-ni-da.)\\n\\nTranslation: I am searching for your lost response.'"
      ]
     },
     "execution_count": 11,
     "metadata": {},
     "output_type": "execute_result"
    }
   ],
   "source": [
    "from langchain_core.messages import HumanMessage\n",
    "model.invoke(\n",
    "    [\n",
    "        HumanMessage(\n",
    "            content=\"Translate Who are you to Korean.\"\n",
    "        )\n",
    "    ]\n",
    ").content"
   ]
  },
  {
   "cell_type": "code",
   "execution_count": 4,
   "id": "extra-turning",
   "metadata": {},
   "outputs": [
    {
     "data": {
      "text/plain": [
       "'अपना हाल कैसे है? (Aapna haal kaisa hai?)'"
      ]
     },
     "execution_count": 4,
     "metadata": {},
     "output_type": "execute_result"
    }
   ],
   "source": []
  },
  {
   "cell_type": "code",
   "execution_count": null,
   "id": "separate-battlefield",
   "metadata": {},
   "outputs": [],
   "source": []
  }
 ],
 "metadata": {
  "kernelspec": {
   "display_name": "Python 3 (my_nlp_env)",
   "language": "python",
   "name": "my_nlpenv"
  },
  "language_info": {
   "codemirror_mode": {
    "name": "ipython",
    "version": 3
   },
   "file_extension": ".py",
   "mimetype": "text/x-python",
   "name": "python",
   "nbconvert_exporter": "python",
   "pygments_lexer": "ipython3",
   "version": "3.10.13"
  }
 },
 "nbformat": 4,
 "nbformat_minor": 5
}
